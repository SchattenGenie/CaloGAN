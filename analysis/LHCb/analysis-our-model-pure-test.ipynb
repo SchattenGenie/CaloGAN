{
 "cells": [
  {
   "cell_type": "code",
   "execution_count": 1,
   "metadata": {
    "collapsed": true
   },
   "outputs": [],
   "source": [
    "import deepdish.io as io\n",
    "import h5py\n",
    "import numpy as np\n",
    "import matplotlib\n",
    "import matplotlib.pyplot as plt\n",
    "from matplotlib.colors import LogNorm\n",
    "%matplotlib inline"
   ]
  },
  {
   "cell_type": "code",
   "execution_count": 2,
   "metadata": {
    "collapsed": false
   },
   "outputs": [
    {
     "data": {
      "text/plain": [
       "'2.0.2'"
      ]
     },
     "execution_count": 2,
     "metadata": {},
     "output_type": "execute_result"
    }
   ],
   "source": [
    "matplotlib.__version__ # should be 2.0.0 or above"
   ]
  },
  {
   "cell_type": "code",
   "execution_count": 3,
   "metadata": {
    "collapsed": true
   },
   "outputs": [],
   "source": [
    "matplotlib.rcParams.update({'font.size': 10})"
   ]
  },
  {
   "cell_type": "code",
   "execution_count": 4,
   "metadata": {
    "collapsed": false
   },
   "outputs": [],
   "source": [
    "def plot_image(image, layer, vmin=None, vmax=None):\n",
    "    '''\n",
    "    Args:\n",
    "    -----\n",
    "        image: ndarray with energies collected by each calo cell\n",
    "        layer: int in {0,1,2}, useful to resize image correctly\n",
    "        vmin: float, min energy to clip at\n",
    "        vmax: float, max energy to clip at\n",
    "    '''\n",
    "    fig = plt.figure(figsize=(5,5))\n",
    "    im = plt.imshow(image,\n",
    "               aspect=float(sizes[layer*2 + 1])/sizes[layer*2],\n",
    "               interpolation='nearest',\n",
    "               norm=LogNorm(vmin, vmax)\n",
    "    )\n",
    "    cbar = plt.colorbar(fraction=0.0455)\n",
    "    cbar.set_label(r'Energy (MeV)', y=0.83)\n",
    "    cbar.ax.tick_params()\n",
    "   \n",
    "    xticks = range(sizes[layer*2 + 1])\n",
    "    yticks = range(sizes[layer*2])\n",
    "    if layer == 0:\n",
    "        xticks = xticks[::10]\n",
    "    plt.xticks(xticks)\n",
    "    plt.yticks(yticks)\n",
    "    plt.xlabel(r'$\\eta$ Cell ID')\n",
    "    plt.ylabel(r'$\\phi$ Cell ID')\n",
    "\n",
    "    plt.tight_layout()\n",
    "    return im"
   ]
  },
  {
   "cell_type": "code",
   "execution_count": 5,
   "metadata": {
    "collapsed": false
   },
   "outputs": [
    {
     "data": {
      "text/plain": [
       "<module 'ndap' from 'ndap.pyc'>"
      ]
     },
     "execution_count": 5,
     "metadata": {},
     "output_type": "execute_result"
    }
   ],
   "source": [
    "import matplotlib\n",
    "import ndap\n",
    "reload(ndap)"
   ]
  },
  {
   "cell_type": "markdown",
   "metadata": {},
   "source": [
    "# Test Sample "
   ]
  },
  {
   "cell_type": "code",
   "execution_count": 6,
   "metadata": {
    "collapsed": true
   },
   "outputs": [],
   "source": [
    "latent_size = 1024 "
   ]
  },
  {
   "cell_type": "code",
   "execution_count": 7,
   "metadata": {
    "collapsed": false
   },
   "outputs": [
    {
     "name": "stderr",
     "output_type": "stream",
     "text": [
      "Using TensorFlow backend.\n"
     ]
    }
   ],
   "source": [
    "from keras.layers import Input, Lambda, Activation, AveragePooling2D, UpSampling2D\n",
    "from keras.models import Model\n",
    "from keras.layers.merge import multiply\n",
    "import keras.backend as K"
   ]
  },
  {
   "cell_type": "code",
   "execution_count": 8,
   "metadata": {
    "collapsed": false
   },
   "outputs": [
    {
     "name": "stdout",
     "output_type": "stream",
     "text": [
      "/Users/elenaorlova/gan-model/models\n",
      "/Users/elenaorlova/gan-model/analysis\n"
     ]
    }
   ],
   "source": [
    "%cd ../models/\n",
    "from architectures import build_generator, build_discriminator, sparse_softmax\n",
    "from ops import scale, inpainting_attention\n",
    "%cd ../analysis/"
   ]
  },
  {
   "cell_type": "code",
   "execution_count": 9,
   "metadata": {
    "collapsed": true
   },
   "outputs": [],
   "source": [
    "sizes = [5, 5, 5, 5]"
   ]
  },
  {
   "cell_type": "code",
   "execution_count": 10,
   "metadata": {
    "collapsed": true
   },
   "outputs": [],
   "source": [
    "test_particle = h5py.File('/Users/elenaorlova/data/data_test.h5', 'r')"
   ]
  },
  {
   "cell_type": "code",
   "execution_count": 11,
   "metadata": {
    "collapsed": true
   },
   "outputs": [],
   "source": [
    "test_particle_0 = test_particle['layer_0'][:10000]\n",
    "test_particle_1 = test_particle['layer_1'][:10000]\n",
    "test_energy = test_particle['energy'][:10000].reshape(-1, 1)"
   ]
  },
  {
   "cell_type": "code",
   "execution_count": 12,
   "metadata": {
    "collapsed": true
   },
   "outputs": [],
   "source": [
    "test_images_particle = [test_particle_0, test_particle_1]"
   ]
  },
  {
   "cell_type": "code",
   "execution_count": 13,
   "metadata": {
    "collapsed": false
   },
   "outputs": [
    {
     "data": {
      "image/png": "[encoded data removed]",
      "text/plain": [
       "<matplotlib.figure.Figure at 0x11bc7b5d0>"
      ]
     },
     "metadata": {},
     "output_type": "display_data"
    },
    {
     "data": {
      "image/png": "[encoded data removed]",
      "text/plain": [
       "<matplotlib.figure.Figure at 0x11f304890>"
      ]
     },
     "metadata": {},
     "output_type": "display_data"
    }
   ],
   "source": [
    "for i in xrange(2):\n",
    "    plot_image(np.squeeze(test_images_particle[i]).mean(axis=0),\n",
    "               layer=i,\n",
    "    )"
   ]
  },
  {
   "cell_type": "markdown",
   "metadata": {},
   "source": [
    "### GAN model"
   ]
  },
  {
   "cell_type": "code",
   "execution_count": 14,
   "metadata": {
    "collapsed": true
   },
   "outputs": [],
   "source": [
    "# input placeholders\n",
    "latent = Input(shape=(latent_size, ), name='z') # noise\n",
    "input_energy = Input(shape=(1, ), dtype='float32') # requested energy of the particle shower\n",
    "generator_inputs = [latent, input_energy]\n",
    "\n",
    "# multiply the (scaled) energy into the latent space\n",
    "h = Lambda(lambda x: x[0] * x[1])([latent, scale(input_energy, 100)])\n",
    "\n",
    "# build three LAGAN-style generators (checkout out `build_generator` in architectures.py)\n",
    "img_layer0 = build_generator(h, 5, 5)\n",
    "img_layer1 = build_generator(h, 5, 5)\n",
    "\n",
    "# outputs\n",
    "generator_outputs = [\n",
    "    Activation('relu')(img_layer0),\n",
    "    Activation('relu')(img_layer1)\n",
    "    #Activation('relu')(img_layer2)\n",
    "]"
   ]
  },
  {
   "cell_type": "code",
   "execution_count": 15,
   "metadata": {
    "collapsed": true
   },
   "outputs": [],
   "source": [
    "# build the actual model\n",
    "generator = Model(generator_inputs, generator_outputs)"
   ]
  },
  {
   "cell_type": "code",
   "execution_count": 63,
   "metadata": {
    "collapsed": false
   },
   "outputs": [],
   "source": [
    "# load trained weights\n",
    "generator.load_weights('/Users/elenaorlova/data/params_generator_epoch_039.hdf5')"
   ]
  },
  {
   "cell_type": "code",
   "execution_count": 64,
   "metadata": {
    "collapsed": true
   },
   "outputs": [],
   "source": [
    "latent_size = 1024"
   ]
  },
  {
   "cell_type": "code",
   "execution_count": 65,
   "metadata": {
    "collapsed": false
   },
   "outputs": [],
   "source": [
    "# 10,000 is the number of showers we want to generate right now\n",
    "noise = np.random.normal(0, 1, (10000, latent_size))"
   ]
  },
  {
   "cell_type": "code",
   "execution_count": 66,
   "metadata": {
    "collapsed": false
   },
   "outputs": [
    {
     "name": "stdout",
     "output_type": "stream",
     "text": [
      " 9984/10000 [============================>.] - ETA: 0s"
     ]
    }
   ],
   "source": [
    "pr_images = generator.predict([noise, test_energy], verbose=True)"
   ]
  },
  {
   "cell_type": "code",
   "execution_count": 67,
   "metadata": {
    "collapsed": false
   },
   "outputs": [],
   "source": [
    "pr_images = map(lambda x: np.squeeze(x * 1000), pr_images)"
   ]
  },
  {
   "cell_type": "code",
   "execution_count": 68,
   "metadata": {
    "collapsed": false
   },
   "outputs": [],
   "source": [
    "pr_images_0 = np.array(pr_images[0])\n",
    "pr_images_1 = np.array(pr_images[1])"
   ]
  },
  {
   "cell_type": "code",
   "execution_count": 69,
   "metadata": {
    "collapsed": true
   },
   "outputs": [],
   "source": [
    "vmin = [test_particle_0.mean(axis=0).min(),  test_particle_1.mean(axis=0).min()]\n",
    "vmax = [test_particle_0.mean(axis=0).max(),  test_particle_1.mean(axis=0).max()]"
   ]
  },
  {
   "cell_type": "code",
   "execution_count": 70,
   "metadata": {
    "collapsed": false
   },
   "outputs": [
    {
     "data": {
      "image/png": "[encoded data removed]",
      "text/plain": [
       "<matplotlib.figure.Figure at 0x1225413d0>"
      ]
     },
     "metadata": {},
     "output_type": "display_data"
    },
    {
     "data": {
      "image/png": "[encoded data removed]",
      "text/plain": [
       "<matplotlib.figure.Figure at 0x126ca0c50>"
      ]
     },
     "metadata": {},
     "output_type": "display_data"
    }
   ],
   "source": [
    "gen_images_particle = [pr_images[0], pr_images[1]]\n",
    "for i in xrange(2):\n",
    "    plot_image(np.squeeze(gen_images_particle[i]).mean(axis=0),\n",
    "               layer=i\n",
    "               #vmin=vmin[i], vmax=vmax[i]\n",
    "              )"
   ]
  },
  {
   "cell_type": "code",
   "execution_count": 71,
   "metadata": {
    "collapsed": false
   },
   "outputs": [
    {
     "data": {
      "text/plain": [
       "<matplotlib.image.AxesImage at 0x124d76890>"
      ]
     },
     "execution_count": 71,
     "metadata": {},
     "output_type": "execute_result"
    },
    {
     "data": {
      "image/png": "[encoded data removed]",
      "text/plain": [
       "<matplotlib.figure.Figure at 0x125c88250>"
      ]
     },
     "metadata": {},
     "output_type": "display_data"
    }
   ],
   "source": [
    "plot_image(pr_images_0[0], layer=0)"
   ]
  },
  {
   "cell_type": "code",
   "execution_count": 72,
   "metadata": {
    "collapsed": false
   },
   "outputs": [
    {
     "data": {
      "text/plain": [
       "<matplotlib.image.AxesImage at 0x124ea77d0>"
      ]
     },
     "execution_count": 72,
     "metadata": {},
     "output_type": "execute_result"
    },
    {
     "data": {
      "image/png": "[encoded data removed]",
      "text/plain": [
       "<matplotlib.figure.Figure at 0x124da5990>"
      ]
     },
     "metadata": {},
     "output_type": "display_data"
    }
   ],
   "source": [
    "plot_image(test_particle_0[0], layer=0)"
   ]
  },
  {
   "cell_type": "code",
   "execution_count": 73,
   "metadata": {
    "collapsed": false
   },
   "outputs": [
    {
     "name": "stdout",
     "output_type": "stream",
     "text": [
      "461\n"
     ]
    }
   ],
   "source": [
    "c = 0\n",
    "for i in range(test_particle_0.shape[0]):\n",
    "    if np.any(test_particle_0[i]) == 0:\n",
    "        c += 1\n",
    "print c"
   ]
  },
  {
   "cell_type": "code",
   "execution_count": 35,
   "metadata": {
    "collapsed": true
   },
   "outputs": [],
   "source": [
    "dgen_particle = {\n",
    "    'layer_0' : np.squeeze(pr_images[0]),\n",
    "    'layer_1' : np.squeeze(pr_images[1])\n",
    "}"
   ]
  },
  {
   "cell_type": "markdown",
   "metadata": {},
   "source": [
    "# Quantitative Performance Evaluation"
   ]
  },
  {
   "cell_type": "markdown",
   "metadata": {},
   "source": [
    "Showers can be described using useful, engineered 1d variables, some of them known in the field as \"shower shape\" variables. These not only help distinguish among the different types of particles, but they also allow us to test how well the GAN is able to reproduce the true data distribution it tried to learn. Not that, besides energy and sparsity, none of these variables were directly built into the network, so the network never knew it had to reproduce them with high fidelity."
   ]
  },
  {
   "cell_type": "code",
   "execution_count": 36,
   "metadata": {
    "collapsed": false
   },
   "outputs": [],
   "source": [
    "from feats1d import *\n",
    "matplotlib.rcParams.update({'font.size': 30})"
   ]
  },
  {
   "cell_type": "code",
   "execution_count": 37,
   "metadata": {
    "collapsed": true
   },
   "outputs": [],
   "source": [
    "colors = matplotlib.cm.gnuplot2(np.linspace(0.2, 0.8, 2))"
   ]
  },
  {
   "cell_type": "markdown",
   "metadata": {},
   "source": [
    "## Sparsity"
   ]
  },
  {
   "cell_type": "code",
   "execution_count": 38,
   "metadata": {
    "collapsed": false
   },
   "outputs": [],
   "source": [
    "gen_sparsity_particle = map(lambda x: (x > 0).mean((1, 2)), [v for v in dgen_particle.itervalues()])\n",
    "real_sparsity_particle = map(lambda x: (x > 0).mean((1, 2)), test_images_particle)"
   ]
  },
  {
   "cell_type": "code",
   "execution_count": 39,
   "metadata": {
    "collapsed": false
   },
   "outputs": [
    {
     "data": {
      "image/png": "[encoded data removed]",
      "text/plain": [
       "<matplotlib.figure.Figure at 0x106345950>"
      ]
     },
     "metadata": {},
     "output_type": "display_data"
    },
    {
     "data": {
      "image/png": "[encoded data removed]",
      "text/plain": [
       "<matplotlib.figure.Figure at 0x1210b5e10>"
      ]
     },
     "metadata": {},
     "output_type": "display_data"
    }
   ],
   "source": [
    "for i in xrange(2):\n",
    "    bins = np.linspace(0, 1, 20)\n",
    "    plt.figure(figsize=(10, 10))\n",
    "    _ = plt.hist(real_sparsity_particle[i], bins=bins, histtype='stepfilled', linewidth=2,\n",
    "                 alpha=0.2, normed='True', color=colors[0],\n",
    "                 label=r' GEANT')\n",
    "    _ = plt.hist(gen_sparsity_particle[i], bins=bins, histtype='step', linewidth=3,\n",
    "                 alpha=1, normed='True', color=colors[0],\n",
    "                 label=r' GAN')\n",
    "    if i==1:\n",
    "        loc='upper center'\n",
    "    else:\n",
    "        loc = 'upper right'\n",
    "    plt.legend(loc=loc, ncol=1, fontsize=20)#, mode='expand', fontsize=20)\n",
    "    plt.xlabel('Sparsity in Layer {}'.format(i))\n",
    "    #plt.savefig('sparsity_layer{}.pdf'.format(i))"
   ]
  },
  {
   "cell_type": "markdown",
   "metadata": {},
   "source": [
    "## Depth"
   ]
  },
  {
   "cell_type": "code",
   "execution_count": 40,
   "metadata": {
    "collapsed": true
   },
   "outputs": [],
   "source": [
    "def my_depth(d):\n",
    "    maxdepth = 1 * (d['layer_1'][:].sum(axis=(1, 2)) != 0) \n",
    "    maxdepth[maxdepth == 0] = 1 * (d['layer_1'][:][maxdepth == 0].sum(axis=(1, 2)) != 0) \n",
    "    return maxdepth"
   ]
  },
  {
   "cell_type": "code",
   "execution_count": 41,
   "metadata": {
    "collapsed": false
   },
   "outputs": [],
   "source": [
    "depth_orig_particle = my_depth(test_particle)\n",
    "depth_gen_particle = my_depth(dgen_particle)"
   ]
  },
  {
   "cell_type": "code",
   "execution_count": 42,
   "metadata": {
    "collapsed": false
   },
   "outputs": [],
   "source": [
    "pr_images_0 = np.array(pr_images[0])\n",
    "pr_images_1 = np.array(pr_images[1])"
   ]
  },
  {
   "cell_type": "code",
   "execution_count": 43,
   "metadata": {
    "collapsed": false
   },
   "outputs": [
    {
     "data": {
      "text/plain": [
       "<matplotlib.text.Text at 0x106333190>"
      ]
     },
     "execution_count": 43,
     "metadata": {},
     "output_type": "execute_result"
    },
    {
     "data": {
      "image/png": "[encoded data removed]",
      "text/plain": [
       "<matplotlib.figure.Figure at 0x121214690>"
      ]
     },
     "metadata": {},
     "output_type": "display_data"
    }
   ],
   "source": [
    "bins = [0, 1, 2]\n",
    "\n",
    "plt.figure(figsize=(10, 10))\n",
    "_ = plt.hist(depth_orig_particle, bins=bins, histtype='stepfilled', linewidth=2,\n",
    "             alpha=0.2, normed='True', color=colors[0],\n",
    "             label=r' GEANT')\n",
    "_ = plt.hist(depth_gen_particle, bins=bins, histtype='step', linewidth=3,\n",
    "             alpha=1, normed='True', color=colors[0],\n",
    "             label=r' GAN')\n",
    "\n",
    "# _ = plt.hist(depth_orig, bins=bins, histtype='stepfilled', alpha=0.5, normed='True', label='GEANT')\n",
    "# _ = plt.hist(depth_gen, bins=bins, histtype='stepfilled', alpha=0.5, normed='True', label='GAN')\n",
    "plt.legend(loc='upper left', fontsize=20)\n",
    "plt.xlabel(r'Max Depth $d$ (layer)')\n",
    "#plt.savefig('max_layer_depth.pdf')"
   ]
  },
  {
   "cell_type": "markdown",
   "metadata": {},
   "source": [
    "## Total Energy"
   ]
  },
  {
   "cell_type": "code",
   "execution_count": 74,
   "metadata": {
    "collapsed": false
   },
   "outputs": [],
   "source": [
    "etot_orig_particle = total_energy(test_particle)\n",
    "etot_gen_particle = total_energy(dgen_particle)"
   ]
  },
  {
   "cell_type": "code",
   "execution_count": 75,
   "metadata": {
    "collapsed": false
   },
   "outputs": [
    {
     "data": {
      "text/plain": [
       "<matplotlib.text.Text at 0x1262fb390>"
      ]
     },
     "execution_count": 75,
     "metadata": {},
     "output_type": "execute_result"
    },
    {
     "data": {
      "image/png": "[encoded data removed]",
      "text/plain": [
       "<matplotlib.figure.Figure at 0x12624a0d0>"
      ]
     },
     "metadata": {},
     "output_type": "display_data"
    }
   ],
   "source": [
    "bins = np.linspace(0, 120, 50)\n",
    "plt.figure(figsize=(10, 10))\n",
    "_ = plt.hist(etot_orig_particle / 1000, bins=bins, histtype='stepfilled', linewidth=2,\n",
    "             alpha=0.2, normed='True', color=colors[0],\n",
    "             label=r' GEANT')\n",
    "_ = plt.hist(etot_gen_particle / 1000, bins=bins, histtype='step', linewidth=3,\n",
    "             alpha=1, normed='True', color=colors[0],\n",
    "             label=r' GAN')\n",
    "plt.legend(loc='upper left', fontsize=20, ncol=1)\n",
    "plt.yscale('log')\n",
    "plt.xlabel(r' (GeV)')\n",
    "#plt.savefig('etot.pdf')"
   ]
  },
  {
   "cell_type": "markdown",
   "metadata": {},
   "source": [
    "## Energy per Layer"
   ]
  },
  {
   "cell_type": "code",
   "execution_count": 46,
   "metadata": {
    "collapsed": false
   },
   "outputs": [],
   "source": [
    "e1_orig_particle = energy('1', test_particle)\n",
    "e1_gen_particle = energy('1', dgen_particle) \n",
    "e0_orig_particle = energy('0', test_particle)\n",
    "e0_gen_particle = energy('0', dgen_particle)\n"
   ]
  },
  {
   "cell_type": "code",
   "execution_count": 47,
   "metadata": {
    "collapsed": false
   },
   "outputs": [
    {
     "data": {
      "text/plain": [
       "<matplotlib.text.Text at 0x1063d8a90>"
      ]
     },
     "execution_count": 47,
     "metadata": {},
     "output_type": "execute_result"
    },
    {
     "data": {
      "image/png": "[encoded data removed]",
      "text/plain": [
       "<matplotlib.figure.Figure at 0x121786210>"
      ]
     },
     "metadata": {},
     "output_type": "display_data"
    }
   ],
   "source": [
    "bins=np.logspace(-2, 2, 100)\n",
    "plt.figure(figsize=(10, 10))\n",
    "_ = plt.hist(e0_orig_particle / 1000, bins=bins, histtype='stepfilled', linewidth=2,\n",
    "             alpha=0.2, normed='True', color=colors[0],\n",
    "             label=r' GEANT')\n",
    "_ = plt.hist(e0_gen_particle / 1000, bins=bins, histtype='step', linewidth=3,\n",
    "             alpha=1, normed='True', color=colors[0],\n",
    "             label=r' GAN')\n",
    "plt.yscale('log')\n",
    "plt.xscale('log')\n",
    "plt.xlim(xmax=40)\n",
    "plt.legend(loc='upper right', ncol=1, fontsize=20)\n",
    "\n",
    "plt.xlabel(r'$E_0$ (GeV)')\n",
    "#plt.savefig('e0_loglog.pdf')"
   ]
  },
  {
   "cell_type": "code",
   "execution_count": 48,
   "metadata": {
    "collapsed": false
   },
   "outputs": [
    {
     "data": {
      "text/plain": [
       "<matplotlib.text.Text at 0x12d33ce10>"
      ]
     },
     "execution_count": 48,
     "metadata": {},
     "output_type": "execute_result"
    },
    {
     "data": {
      "image/png": "[encoded data removed]",
      "text/plain": [
       "<matplotlib.figure.Figure at 0x12d25a110>"
      ]
     },
     "metadata": {},
     "output_type": "display_data"
    }
   ],
   "source": [
    "bins=np.logspace(-1, 3, 100)\n",
    "plt.figure(figsize=(10, 10))\n",
    "_ = plt.hist(e1_orig_particle / 1000, bins=bins, histtype='stepfilled', linewidth=2,\n",
    "             alpha=0.2, normed='True', color=colors[0],\n",
    "             label=r'GEANT')\n",
    "_ = plt.hist(e1_gen_particle / 1000, bins=bins, histtype='step', linewidth=3,\n",
    "             alpha=1, normed='True', color=colors[0],\n",
    "             label=r'GAN')\n",
    "plt.yscale('log')\n",
    "plt.xscale('log')\n",
    "plt.xlim(xmax=140)\n",
    "\n",
    "plt.legend(loc='upper left', ncol=1, fontsize=20)\n",
    "plt.xlabel(r'$E_1$ (GeV)')\n",
    "#plt.savefig('e1_loglog.pdf')"
   ]
  },
  {
   "cell_type": "markdown",
   "metadata": {},
   "source": [
    "## Energy Fractions"
   ]
  },
  {
   "cell_type": "code",
   "execution_count": 49,
   "metadata": {
    "collapsed": false
   },
   "outputs": [
    {
     "data": {
      "text/plain": [
       "<matplotlib.text.Text at 0x120ebe290>"
      ]
     },
     "execution_count": 49,
     "metadata": {},
     "output_type": "execute_result"
    },
    {
     "data": {
      "image/png": "[encoded data removed]",
      "text/plain": [
       "<matplotlib.figure.Figure at 0x121807350>"
      ]
     },
     "metadata": {},
     "output_type": "display_data"
    }
   ],
   "source": [
    "bins = np.linspace(0, 0.4, 100)\n",
    "plt.figure(figsize=(10, 10))\n",
    "_ = plt.hist(e0_orig_particle / etot_orig_particle, bins=bins, histtype='stepfilled', linewidth=2,\n",
    "             alpha=0.2, normed='True', color=colors[0],\n",
    "             label=r'GEANT')\n",
    "_ = plt.hist(e0_gen_particle / etot_gen_particle, bins=bins, histtype='step', linewidth=3,\n",
    "             alpha=1, normed='True', color=colors[0],\n",
    "             label=r'GAN')\n",
    "plt.legend(loc='upper right', ncol=1, fontsize=20)\n",
    "\n",
    "plt.xlabel(r'$f_0$')#$E_0 / E_\\mathrm{tot}$')\n",
    "#plt.savefig('e0_etot.pdf')"
   ]
  },
  {
   "cell_type": "code",
   "execution_count": 50,
   "metadata": {
    "collapsed": false
   },
   "outputs": [
    {
     "data": {
      "text/plain": [
       "<matplotlib.text.Text at 0x120e704d0>"
      ]
     },
     "execution_count": 50,
     "metadata": {},
     "output_type": "execute_result"
    },
    {
     "data": {
      "image/png": "[encoded data removed]",
      "text/plain": [
       "<matplotlib.figure.Figure at 0x120fbf650>"
      ]
     },
     "metadata": {},
     "output_type": "display_data"
    }
   ],
   "source": [
    "bins = np.logspace(-4, 0, 100) #np.linspace(0, 0.4, 100)\n",
    "plt.figure(figsize=(10, 10))\n",
    "_ = plt.hist(e0_orig_particle / etot_orig_particle, bins=bins, histtype='stepfilled', linewidth=2,\n",
    "             alpha=0.2, normed='True', color=colors[0],\n",
    "             label=r'GEANT')\n",
    "_ = plt.hist(e0_gen_particle / etot_gen_particle, bins=bins, histtype='step', linewidth=3,\n",
    "             alpha=1, normed='True', color=colors[0],\n",
    "             label=r'GAN')\n",
    "plt.legend(loc='upper right', ncol=1, fontsize=20)\n",
    "plt.yscale('log')\n",
    "plt.xscale('log')\n",
    "plt.ylim(ymax=3000)\n",
    "plt.xlabel(r'$f_0$')#$E_0 / E_\\mathrm{tot}$')\n",
    "#plt.savefig('e0_etot_loglog.pdf')"
   ]
  },
  {
   "cell_type": "code",
   "execution_count": 51,
   "metadata": {
    "collapsed": false
   },
   "outputs": [
    {
     "data": {
      "text/plain": [
       "<matplotlib.text.Text at 0x120fded10>"
      ]
     },
     "execution_count": 51,
     "metadata": {},
     "output_type": "execute_result"
    },
    {
     "data": {
      "image/png": "[encoded data removed]",
      "text/plain": [
       "<matplotlib.figure.Figure at 0x1225a7150>"
      ]
     },
     "metadata": {},
     "output_type": "display_data"
    }
   ],
   "source": [
    "bins = np.linspace(0, 1, 100)\n",
    "plt.figure(figsize=(8, 8))\n",
    "_ = plt.hist(e1_orig_particle / etot_orig_particle, bins=bins, histtype='stepfilled', linewidth=2,\n",
    "             alpha=0.2, normed='True', color=colors[0],\n",
    "             label=r'$ GEANT')\n",
    "_ = plt.hist(e1_gen_particle / etot_gen_particle, bins=bins, histtype='step', linewidth=3,\n",
    "             alpha=1, normed='True', color=colors[0],\n",
    "             label=r' GAN')\n",
    "plt.legend(loc='upper left', ncol=1, fontsize=20)\n",
    "\n",
    "plt.xlabel(r'$f_1$')#$E_1 / E_\\mathrm{tot}$')\n",
    "#plt.savefig('e1_etot.pdf')"
   ]
  },
  {
   "cell_type": "code",
   "execution_count": 52,
   "metadata": {
    "collapsed": false
   },
   "outputs": [
    {
     "data": {
      "text/plain": [
       "<matplotlib.text.Text at 0x125544490>"
      ]
     },
     "execution_count": 52,
     "metadata": {},
     "output_type": "execute_result"
    },
    {
     "data": {
      "image/png": "[encoded data removed]",
      "text/plain": [
       "<matplotlib.figure.Figure at 0x120f97d50>"
      ]
     },
     "metadata": {},
     "output_type": "display_data"
    }
   ],
   "source": [
    "bins=np.logspace(-1, 0, 100)\n",
    "plt.figure(figsize=(8, 8))\n",
    "_ = plt.hist(e1_orig_particle / etot_orig_particle, bins=bins, histtype='stepfilled', linewidth=2,\n",
    "             alpha=0.2, normed='True', color=colors[0],\n",
    "             label=r'$ GEANT')\n",
    "_ = plt.hist(e1_gen_particle / etot_gen_particle, bins=bins, histtype='step', linewidth=3,\n",
    "             alpha=1, normed='True', color=colors[0],\n",
    "             label=r' GAN')\n",
    "plt.legend(loc='upper left', ncol=2, fontsize=20)\n",
    "plt.yscale('log')\n",
    "plt.xscale('log')\n",
    "plt.xlabel(r'$f_1$')#$E_1 / E_\\mathrm{tot}$')\n",
    "#plt.savefig('e1_etot_loglog.pdf')"
   ]
  },
  {
   "cell_type": "markdown",
   "metadata": {},
   "source": [
    "## Shower Depth"
   ]
  },
  {
   "cell_type": "code",
   "execution_count": 53,
   "metadata": {
    "collapsed": true
   },
   "outputs": [],
   "source": [
    "lateral_depth_orig_particle = lateral_depth(test_particle)\n",
    "lateral_depth_gen_particle = lateral_depth(dgen_particle)"
   ]
  },
  {
   "cell_type": "code",
   "execution_count": 54,
   "metadata": {
    "collapsed": false
   },
   "outputs": [
    {
     "data": {
      "text/plain": [
       "<matplotlib.text.Text at 0x1257e78d0>"
      ]
     },
     "execution_count": 54,
     "metadata": {},
     "output_type": "execute_result"
    },
    {
     "data": {
      "image/png": "[encoded data removed]",
      "text/plain": [
       "<matplotlib.figure.Figure at 0x1258141d0>"
      ]
     },
     "metadata": {},
     "output_type": "display_data"
    }
   ],
   "source": [
    "# shower depth\n",
    "bins = np.logspace(1, 5, 100)#np.linspace(0, 120000, 100)\n",
    "plt.figure(figsize=(8, 8))\n",
    "\n",
    "_ = plt.hist(lateral_depth_orig_particle, bins=bins, histtype='stepfilled', linewidth=2,\n",
    "             alpha=0.2, normed='True', color=colors[0],\n",
    "             label=r'$ GEANT')\n",
    "_ = plt.hist(lateral_depth_gen_particle, bins=bins, histtype='step', linewidth=3,\n",
    "             alpha=1, normed='True', color=colors[0],\n",
    "             label=r' GAN')\n",
    "plt.legend(loc='upper left', ncol=1, fontsize=20)\n",
    "plt.yscale('log')\n",
    "plt.xscale('log')\n",
    "\n",
    "plt.xlabel(r'Lateral Depth $l_d$')\n",
    "#plt.savefig('lateral_depth.pdf')"
   ]
  },
  {
   "cell_type": "code",
   "execution_count": 55,
   "metadata": {
    "collapsed": false
   },
   "outputs": [
    {
     "data": {
      "text/plain": [
       "<matplotlib.text.Text at 0x125ad8550>"
      ]
     },
     "execution_count": 55,
     "metadata": {},
     "output_type": "execute_result"
    },
    {
     "data": {
      "image/png": "[encoded data removed]",
      "text/plain": [
       "<matplotlib.figure.Figure at 0x125afbe10>"
      ]
     },
     "metadata": {},
     "output_type": "display_data"
    }
   ],
   "source": [
    "bins = np.linspace(0.4, 2, 100)\n",
    "plt.figure(figsize=(8, 8))\n",
    "_ = plt.hist(lateral_depth_orig_particle / etot_orig_particle, bins=bins, histtype='stepfilled', linewidth=2,\n",
    "             alpha=0.2, normed='True', color=colors[0],\n",
    "             label=r'GEANT')\n",
    "_ = plt.hist(lateral_depth_gen_particle / etot_gen_particle, bins=bins, histtype='step', linewidth=3,\n",
    "             alpha=1, normed='True', color=colors[0],\n",
    "             label=r'GAN')\n",
    "\n",
    "plt.legend(loc='upper right', ncol=1, fontsize=20)\n",
    "\n",
    "# _ = plt.hist(lateral_depth_orig / etot_orig, bins=bins, histtype='stepfilled', alpha=0.5, normed='True', label='GEANT')\n",
    "# _ = plt.hist(lateral_depth_gen / etot_gen, bins=bins, histtype='stepfilled', alpha=0.5, normed='True', label='GAN')\n",
    "plt.xlabel(r'Shower Depth $s_d$')\n",
    "#plt.savefig('shower_depth.pdf')"
   ]
  },
  {
   "cell_type": "markdown",
   "metadata": {},
   "source": [
    "## Lateral Width per Layer"
   ]
  },
  {
   "cell_type": "code",
   "execution_count": 56,
   "metadata": {
    "collapsed": false
   },
   "outputs": [
    {
     "name": "stderr",
     "output_type": "stream",
     "text": [
      "feats1d.py:119: RuntimeWarning: invalid value encountered in sqrt\n",
      "  return np.sqrt((x2 / (e + 1e-7)) - (x / (e + 1e-7)) ** 2)\n"
     ]
    }
   ],
   "source": [
    "lateral_width0_orig_particle = layer_lateral_width('0', test_particle)\n",
    "lateral_width1_orig_particle = layer_lateral_width('1', test_particle)\n",
    "lateral_width0_gen_particle = layer_lateral_width('0', dgen_particle)\n",
    "lateral_width1_gen_particle = layer_lateral_width('1', dgen_particle)"
   ]
  },
  {
   "cell_type": "code",
   "execution_count": 57,
   "metadata": {
    "collapsed": false
   },
   "outputs": [
    {
     "data": {
      "text/plain": [
       "<matplotlib.text.Text at 0x125c7ed90>"
      ]
     },
     "execution_count": 57,
     "metadata": {},
     "output_type": "execute_result"
    },
    {
     "data": {
      "image/png": "[encoded data removed]",
      "text/plain": [
       "<matplotlib.figure.Figure at 0x1258f5f50>"
      ]
     },
     "metadata": {},
     "output_type": "display_data"
    }
   ],
   "source": [
    "# layer 0 lateral width\n",
    "bins = np.logspace(0, 3, 100)#np.linspace(0, 100, 100)\n",
    "plt.figure(figsize=(8, 8))\n",
    "_ = plt.hist(lateral_width0_orig_particle[np.isfinite(lateral_width0_orig_particle)],\n",
    "             bins=bins, histtype='stepfilled', linewidth=2,\n",
    "             alpha=0.2, normed='True', color=colors[0],\n",
    "             label=r' GEANT')\n",
    "_ = plt.hist(lateral_width0_gen_particle[np.isfinite(lateral_width0_gen_particle)],\n",
    "             bins=bins, histtype='step', linewidth=3,\n",
    "             alpha=1, normed='True', color=colors[0],\n",
    "             label=r' GAN')\n",
    "\n",
    "plt.legend(loc='upper left', ncol=1, fontsize=20)\n",
    "plt.xscale('log')\n",
    "plt.yscale('log')\n",
    "plt.ylim(ymax=5)\n",
    "plt.xlim(xmax=200)\n",
    "plt.xlabel(r'$\\sigma_0$')\n",
    "#plt.savefig('lateral_width_layer0.pdf')"
   ]
  },
  {
   "cell_type": "code",
   "execution_count": 58,
   "metadata": {
    "collapsed": false
   },
   "outputs": [
    {
     "data": {
      "text/plain": [
       "<matplotlib.text.Text at 0x126cc6710>"
      ]
     },
     "execution_count": 58,
     "metadata": {},
     "output_type": "execute_result"
    },
    {
     "data": {
      "image/png": "[encoded data removed]",
      "text/plain": [
       "<matplotlib.figure.Figure at 0x126cf2050>"
      ]
     },
     "metadata": {},
     "output_type": "display_data"
    }
   ],
   "source": [
    "# layer 1 lateral width\n",
    "bins = np.logspace(0, 2, 100)#np.linspace(0, 70, 100)\n",
    "plt.figure(figsize=(8, 8))\n",
    "_ = plt.hist(lateral_width1_orig_particle[np.isfinite(lateral_width1_orig_particle)],\n",
    "             bins=bins, histtype='stepfilled', linewidth=2,\n",
    "             alpha=0.2, normed='True', color=colors[0],\n",
    "             label=r'GEANT')\n",
    "_ = plt.hist(lateral_width1_gen_particle[np.isfinite(lateral_width1_gen_particle)],\n",
    "             bins=bins, histtype='step', linewidth=3,\n",
    "             alpha=1, normed='True', color=colors[0],\n",
    "             label=r'GAN')\n",
    "plt.legend(loc='upper left', ncol=1, fontsize=20)\n",
    "plt.xscale('log')\n",
    "plt.yscale('log')\n",
    "plt.ylim(ymax=2)\n",
    "plt.xlabel(r'$\\sigma_1$')\n",
    "#plt.savefig('lateral_width_layer1.pdf')"
   ]
  },
  {
   "cell_type": "markdown",
   "metadata": {},
   "source": [
    "## E_ratio"
   ]
  },
  {
   "cell_type": "code",
   "execution_count": 59,
   "metadata": {
    "collapsed": true
   },
   "outputs": [],
   "source": [
    "def eratio(images):\n",
    "    top2 = np.array([np.sort(row.ravel())[::-1][:2] for row in images])\n",
    "    top2[top2 < 1e-10] = 1e-10\n",
    "    return (top2[:, 0] - top2[:, 1]) / (top2[:, 0] + top2[:, 1])"
   ]
  },
  {
   "cell_type": "code",
   "execution_count": 60,
   "metadata": {
    "collapsed": false
   },
   "outputs": [
    {
     "data": {
      "text/plain": [
       "array([ 0.79957592,  0.22526787,  0.69365788, ...,  0.5752703 ,\n",
       "        0.734864  ,  1.        ], dtype=float32)"
      ]
     },
     "execution_count": 60,
     "metadata": {},
     "output_type": "execute_result"
    }
   ],
   "source": [
    "eratio(pr_images[0])"
   ]
  },
  {
   "cell_type": "code",
   "execution_count": 61,
   "metadata": {
    "collapsed": false
   },
   "outputs": [
    {
     "data": {
      "text/plain": [
       "<matplotlib.text.Text at 0x126bfec50>"
      ]
     },
     "execution_count": 61,
     "metadata": {},
     "output_type": "execute_result"
    },
    {
     "data": {
      "image/png": "[encoded data removed]",
      "text/plain": [
       "<matplotlib.figure.Figure at 0x126ad5190>"
      ]
     },
     "metadata": {},
     "output_type": "display_data"
    }
   ],
   "source": [
    "#bins=np.logspace(-2, 2, 100)\n",
    "bins=np.linspace(0, 1, 100)\n",
    "plt.figure(figsize=(10, 10))\n",
    "_ = plt.hist(eratio(test_images_particle[0]), bins=bins, histtype='stepfilled', linewidth=2,\n",
    "             alpha=0.2, normed='True', color=colors[0],\n",
    "             label=r' GEANT')\n",
    "_ = plt.hist(eratio(dgen_particle['layer_0']), bins=bins, histtype='step', linewidth=3,\n",
    "             alpha=1, normed='True', color=colors[0],\n",
    "             label=r' GAN')\n",
    "plt.legend(loc='upper right', ncol=1, fontsize=20)\n",
    "\n",
    "plt.xlabel(r'$E_{\\mathrm{ratio},0}$')\n",
    "#plt.savefig('eratio.pdf')"
   ]
  },
  {
   "cell_type": "code",
   "execution_count": 62,
   "metadata": {
    "collapsed": false
   },
   "outputs": [
    {
     "data": {
      "text/plain": [
       "<matplotlib.text.Text at 0x126c59250>"
      ]
     },
     "execution_count": 62,
     "metadata": {},
     "output_type": "execute_result"
    },
    {
     "data": {
      "image/png": "[encoded data removed]",
      "text/plain": [
       "<matplotlib.figure.Figure at 0x1210130d0>"
      ]
     },
     "metadata": {},
     "output_type": "display_data"
    }
   ],
   "source": [
    "#bins=np.logspace(-2, 2, 100)\n",
    "bins=np.linspace(0, 1, 100)\n",
    "plt.figure(figsize=(10, 10))\n",
    "_ = plt.hist(eratio(test_images_particle[1]), bins=bins, histtype='stepfilled', linewidth=2,\n",
    "             alpha=0.2, normed='True', color=colors[0],\n",
    "             label=r'GEANT')\n",
    "_ = plt.hist(eratio(dgen_particle['layer_1']), bins=bins, histtype='step', linewidth=3,\n",
    "             alpha=1, normed='True', color=colors[0],\n",
    "             label=r'GAN')\n",
    "plt.legend(loc='upper left', ncol=1, fontsize=20)\n",
    "\n",
    "plt.xlabel(r'$E_{\\mathrm{ratio},1}$')\n",
    "#plt.savefig('eratio1.pdf')"
   ]
  },
  {
   "cell_type": "code",
   "execution_count": null,
   "metadata": {
    "collapsed": true
   },
   "outputs": [],
   "source": []
  }
 ],
 "metadata": {
  "anaconda-cloud": {},
  "kernelspec": {
   "display_name": "Python 2",
   "language": "python",
   "name": "python2"
  },
  "language_info": {
   "codemirror_mode": {
    "name": "ipython",
    "version": 2
   },
   "file_extension": ".py",
   "mimetype": "text/x-python",
   "name": "python",
   "nbconvert_exporter": "python",
   "pygments_lexer": "ipython2",
   "version": "2.7.11"
  },
  "latex_envs": {
   "bibliofile": "biblio.bib",
   "cite_by": "apalike",
   "current_citInitial": 1,
   "eqLabelWithNumbers": true,
   "eqNumInitial": 0
  }
 },
 "nbformat": 4,
 "nbformat_minor": 2
}
